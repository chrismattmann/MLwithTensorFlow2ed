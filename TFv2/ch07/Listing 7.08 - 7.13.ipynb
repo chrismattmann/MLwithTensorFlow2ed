{
 "cells": [
  {
   "cell_type": "code",
   "execution_count": 1,
   "metadata": {},
   "outputs": [],
   "source": [
    "import tensorflow as tf\n",
    "import numpy as np\n",
    "from matplotlib import pyplot as plt"
   ]
  },
  {
   "cell_type": "code",
   "execution_count": 2,
   "metadata": {},
   "outputs": [],
   "source": [
    "class SOM:\n",
    "    \n",
    "    def __init__(self, width, height, dim):\n",
    "        self.num_iters = 100\n",
    "        self.width = width\n",
    "        self.height = height\n",
    "        self.dim = dim\n",
    "        self.node_locs = self.get_locs()\n",
    "        nodes = tf.cast(tf.Variable(tf.random.normal([width*height, dim])), tf.double)\n",
    "        self.nodes = nodes\n",
    "        x = np.array([dim], dtype=np.double) \n",
    "        self.x = x \n",
    "        iter = 0.\n",
    "        self.iter = iter \n",
    "        bmu_loc = self.get_bmu_loc(x)\n",
    "        self.propagate_nodes = self.get_propagation(x, iter)\n",
    "        \n",
    "    def get_propagation(self, x, iter):\n",
    "        bmu_loc = self.get_bmu_loc(x)        \n",
    "        num_nodes = self.width * self.height\n",
    "        rate = tf.cast(1.0 - tf.divide(iter, self.num_iters), tf.double)\n",
    "        alpha = rate * 0.5\n",
    "        sigma = rate * tf.cast((tf.cast(tf.maximum(self.width, self.height), tf.double) / 2.), tf.double)\n",
    "        expanded_bmu_loc = tf.expand_dims(tf.cast(bmu_loc, tf.double), 0)\n",
    "        sqr_dists_from_bmu = tf.reduce_sum(\n",
    "          tf.square(tf.subtract(expanded_bmu_loc, self.node_locs)), 1)\n",
    "        neigh_factor = tf.exp(-tf.divide(sqr_dists_from_bmu, 2 * tf.square(sigma)))\n",
    "        rate = tf.multiply(alpha, neigh_factor)\n",
    "        rate_factor = tf.cast(tf.stack([tf.tile(tf.slice(rate, [i], [1]), [self.dim]) for i in range(num_nodes)]), tf.double)\n",
    "        nodes_diff = tf.multiply(rate_factor, tf.subtract(tf.stack([x for i in range(num_nodes)]), tf.cast(self.nodes, tf.double)))\n",
    "        update_nodes = tf.add(self.nodes, nodes_diff)\n",
    "        self.nodes = update_nodes\n",
    "    \n",
    "    def get_bmu_loc(self, x):\n",
    "        expanded_x = tf.expand_dims(x, 0)\n",
    "        sqr_diff = tf.square(tf.subtract(tf.cast(expanded_x, tf.double), tf.cast(self.nodes, tf.double)))\n",
    "        dists = tf.reduce_sum(sqr_diff, 1)\n",
    "        bmu_idx = tf.argmin(dists, 0)\n",
    "        bmu_loc = tf.stack([tf.math.mod(tf.cast(bmu_idx, tf.int64), tf.cast(self.width, tf.int64)), tf.cast(tf.divide(tf.cast(bmu_idx, tf.int64), tf.cast(self.width, tf.int64)), tf.int64)])\n",
    "        return bmu_loc\n",
    "    \n",
    "    def get_locs(self):\n",
    "        locs = [[x, y]\n",
    "                 for y in range(self.height)\n",
    "                 for x in range(self.width)]\n",
    "        return tf.cast(locs, tf.double)\n",
    "\n",
    "    def train(self, data):\n",
    "        for i in range(self.num_iters):\n",
    "            for data_x in data:\n",
    "                self.get_propagation(data_x, i)\n",
    "        centroid_grid = [[] for i in range(self.width)]\n",
    "        self.nodes_val = list(self.nodes)\n",
    "        self.locs_val = list(self.node_locs)\n",
    "        for i, l in enumerate(self.locs_val):\n",
    "            centroid_grid[int(l[0])].append(self.nodes_val[i])\n",
    "        self.centroid_grid = centroid_grid\n"
   ]
  },
  {
   "cell_type": "code",
   "execution_count": 3,
   "metadata": {},
   "outputs": [
    {
     "data": {
      "image/png": "[encoded data removed]",
      "text/plain": [
       "<Figure size 432x288 with 1 Axes>"
      ]
     },
     "metadata": {
      "needs_background": "light"
     },
     "output_type": "display_data"
    }
   ],
   "source": [
    "colors = np.array(\n",
    "     [[0., 0., 1.],\n",
    "      [0., 0., 0.95],\n",
    "      [0., 0.05, 1.],\n",
    "      [0., 1., 0.],\n",
    "      [0., 0.95, 0.],\n",
    "      [0., 1, 0.05],\n",
    "      [1., 0., 0.],\n",
    "      [1., 0.05, 0.],\n",
    "      [1., 0., 0.05],\n",
    "      [1., 1., 0.]])\n",
    "som = SOM(4, 4, 3)\n",
    "som.train(colors)\n",
    "plt.imshow(som.centroid_grid)\n",
    "plt.show()"
   ]
  },
  {
   "cell_type": "code",
   "execution_count": null,
   "metadata": {},
   "outputs": [],
   "source": []
  }
 ],
 "metadata": {
  "kernelspec": {
   "display_name": "Python 3",
   "language": "python",
   "name": "python3"
  },
  "language_info": {
   "codemirror_mode": {
    "name": "ipython",
    "version": 3
   },
   "file_extension": ".py",
   "mimetype": "text/x-python",
   "name": "python",
   "nbconvert_exporter": "python",
   "pygments_lexer": "ipython3",
   "version": "3.8.5"
  }
 },
 "nbformat": 4,
 "nbformat_minor": 2
}
