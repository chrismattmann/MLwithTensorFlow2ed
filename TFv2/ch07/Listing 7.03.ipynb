{
 "cells": [
  {
   "cell_type": "code",
   "execution_count": 1,
   "metadata": {},
   "outputs": [],
   "source": [
    "import sys"
   ]
  },
  {
   "cell_type": "code",
   "execution_count": 2,
   "metadata": {},
   "outputs": [],
   "source": [
    "sys.path.append(\"../libs/basic_units/\")"
   ]
  },
  {
   "cell_type": "code",
   "execution_count": 3,
   "metadata": {},
   "outputs": [],
   "source": [
    "import os\n",
    "os.environ['TF_CPP_MIN_LOG_LEVEL'] = '1'\n",
    "\n",
    "import numpy as np\n",
    "import librosa\n",
    "import python_speech_features\n",
    "from basic_units import cm, inch\n",
    "import matplotlib.pyplot as plt\n",
    "from scipy.signal.windows import hann, hamming\n",
    "import tensorflow as tf\n",
    "import matplotlib.pyplot as plt"
   ]
  },
  {
   "cell_type": "code",
   "execution_count": 4,
   "metadata": {},
   "outputs": [],
   "source": [
    "n_mfcc = 12\n",
    "n_mels = 40\n",
    "n_fft = 16_384\n",
    "hop_length = 2205\n",
    "fmin = 0\n",
    "fmax = None\n",
    "winlen = 8192\n",
    "rate = 44000"
   ]
  },
  {
   "cell_type": "code",
   "execution_count": 5,
   "metadata": {},
   "outputs": [],
   "source": [
    "def read_file(file):\n",
    "    file_contents = tf.io.read_file(file)\n",
    "    return file, file_contents"
   ]
  },
  {
   "cell_type": "code",
   "execution_count": 6,
   "metadata": {},
   "outputs": [],
   "source": [
    "filenames = tf.io.match_filenames_once('../data/audio_dataset/*.wav')\n",
    "filename_ds = tf.data.Dataset.from_tensor_slices(filenames)"
   ]
  },
  {
   "cell_type": "code",
   "execution_count": 7,
   "metadata": {},
   "outputs": [],
   "source": [
    "filename_contents_ds = filename_ds.map(read_file)"
   ]
  },
  {
   "cell_type": "code",
   "execution_count": 8,
   "metadata": {},
   "outputs": [],
   "source": [
    "def get_next_chromagram(audio_file):\n",
    "    print('filename %s ' % (audio_file))\n",
    "    \n",
    "    y, sr = librosa.core.load(audio_file)\n",
    "    chroma_stft = librosa.feature.chroma_stft(y=y, hop_length=hop_length, n_fft=n_fft)\n",
    "    \n",
    "    return chroma_stft"
   ]
  },
  {
   "cell_type": "code",
   "execution_count": 9,
   "metadata": {},
   "outputs": [],
   "source": [
    "def extract_feature_vector(chroma_data):\n",
    "    num_features, num_samples = np.shape(chroma_data)\n",
    "    \n",
    "    print(\"Num features %d num samples %d \" % (num_features, num_samples))\n",
    "    \n",
    "    freq_vals = tf.argmax(chroma_data)\n",
    "    hist, bins = np.histogram(freq_vals, bins=range(num_features + 1))\n",
    "    \n",
    "    return hist.astype(float) / num_samples"
   ]
  },
  {
   "cell_type": "code",
   "execution_count": 10,
   "metadata": {},
   "outputs": [],
   "source": [
    "def get_dataset():\n",
    "    filename_contents_ds_enum = filename_contents_ds.enumerate()\n",
    "    \n",
    "    xs = []\n",
    "    for file_obj in filename_contents_ds_enum.as_numpy_iterator():\n",
    "        chroma_data = get_next_chromagram(file_obj[1][0])\n",
    "        \n",
    "        x = [extract_feature_vector(chroma_data)]\n",
    "        x = np.matrix(x)\n",
    "        \n",
    "        if len(xs) == 0:\n",
    "            xs = x\n",
    "        else:\n",
    "            xs = np.vstack((xs, x))\n",
    "    \n",
    "    return xs"
   ]
  },
  {
   "cell_type": "code",
   "execution_count": 11,
   "metadata": {},
   "outputs": [
    {
     "name": "stdout",
     "output_type": "stream",
     "text": [
      "filename b'../data/audio_dataset/cough_1.wav' \n",
      "Num features 12 num samples 12 \n",
      "filename b'../data/audio_dataset/cough_2.wav' \n",
      "Num features 12 num samples 16 \n",
      "filename b'../data/audio_dataset/scream_1.wav' \n",
      "Num features 12 num samples 13 \n",
      "filename b'../data/audio_dataset/scream_2.wav' \n",
      "Num features 12 num samples 25 \n",
      "filename b'../data/audio_dataset/scream_3.wav' \n",
      "Num features 12 num samples 34 \n",
      "[[0.25       0.08333333 0.16666667 0.08333333 0.         0.\n",
      "  0.         0.         0.16666667 0.25       0.         0.        ]\n",
      " [0.         0.         0.5625     0.125      0.         0.\n",
      "  0.         0.         0.         0.         0.0625     0.25      ]\n",
      " [0.         0.         0.         0.         0.         0.30769231\n",
      "  0.30769231 0.38461538 0.         0.         0.         0.        ]\n",
      " [0.         0.         0.04       0.04       0.92       0.\n",
      "  0.         0.         0.         0.         0.         0.        ]\n",
      " [0.         0.         0.         0.         0.79411765 0.\n",
      "  0.17647059 0.         0.02941176 0.         0.         0.        ]]\n",
      "(5, 12)\n"
     ]
    }
   ],
   "source": [
    "X = get_dataset()    \n",
    "print(X)\n",
    "print(X.shape)"
   ]
  },
  {
   "cell_type": "code",
   "execution_count": 12,
   "metadata": {},
   "outputs": [
    {
     "name": "stdout",
     "output_type": "stream",
     "text": [
      "[ 0.03  1.03  2.03  3.03  4.03  5.03  6.03  7.03  8.03  9.03 10.03 11.03]\n"
     ]
    },
    {
     "data": {
      "image/png": "[encoded data removed]",
      "text/plain": [
       "<matplotlib.figure.Figure at 0x7f61b82b3460>"
      ]
     },
     "metadata": {
      "needs_background": "light"
     },
     "output_type": "display_data"
    }
   ],
   "source": [
    "labels=[]\n",
    "for i in np.arange(n_mfcc):\n",
    "    labels.append(\"P\"+str(i+1))\n",
    "    \n",
    "fig, ax = plt.subplots()\n",
    "ind = np.arange(len(labels))\n",
    "width = 0.15 \n",
    "colors = ['r', 'g', 'y', 'b', 'black']\n",
    "plots = []\n",
    "\n",
    "for i in range(X.shape[0]):\n",
    "    Xs = np.asarray(X[i]).reshape(-1)\n",
    "    p = ax.bar(ind + (i * width), Xs, width, color=colors[i])\n",
    "    plots.append(p[0])\n",
    "\n",
    "xticks = ind + width / (X.shape[0])\n",
    "print(xticks)\n",
    "\n",
    "\n",
    "ax.legend(tuple(plots), ('Cough1', 'Cough2', 'Scream1', 'Scream2', 'Scream3'))\n",
    "ax.yaxis.set_units(inch)\n",
    "ax.autoscale_view()\n",
    "ax.set_xticks(xticks)\n",
    "ax.set_xticklabels(labels)\n",
    "\n",
    "ax.set_ylabel('Normalized freq coumt')\n",
    "ax.set_xlabel('Pitch')\n",
    "ax.set_title('Normalized frequency counts for Various Sounds')\n",
    "plt.show()"
   ]
  },
  {
   "cell_type": "code",
   "execution_count": null,
   "metadata": {},
   "outputs": [],
   "source": []
  },
  {
   "cell_type": "code",
   "execution_count": null,
   "metadata": {},
   "outputs": [],
   "source": []
  }
 ],
 "metadata": {
  "kernelspec": {
   "display_name": "Python 3 (ipykernel)",
   "language": "python",
   "name": "python3"
  },
  "language_info": {
   "codemirror_mode": {
    "name": "ipython",
    "version": 3
   },
   "file_extension": ".py",
   "mimetype": "text/x-python",
   "name": "python",
   "nbconvert_exporter": "python",
   "pygments_lexer": "ipython3",
   "version": "3.8.10"
  }
 },
 "nbformat": 4,
 "nbformat_minor": 4
}
