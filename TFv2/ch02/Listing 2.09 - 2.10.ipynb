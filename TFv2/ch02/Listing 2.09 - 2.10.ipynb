{
 "cells": [
  {
   "cell_type": "code",
   "execution_count": 1,
   "metadata": {},
   "outputs": [],
   "source": [
    "import tensorflow as tf"
   ]
  },
  {
   "cell_type": "markdown",
   "metadata": {},
   "source": [
    "# TensorFlow v2\n",
    "---"
   ]
  },
  {
   "cell_type": "code",
   "execution_count": 16,
   "metadata": {},
   "outputs": [
    {
     "name": "stdout",
     "output_type": "stream",
     "text": [
      "Saved checkpoint at: ./tf_ckpts/ckpt-1\n",
      "Saved checkpoint at: ./tf_ckpts/ckpt-2\n",
      "Saved checkpoint at: ./tf_ckpts/ckpt-3\n",
      "Spikes [False False  True False False  True False  True]\n"
     ]
    }
   ],
   "source": [
    "raw_data = [1., 2., 8., -1., 0., 5.5, 6., 13.]\n",
    "spikes = tf.Variable([False] * len(raw_data), name='spikes')\n",
    "\n",
    "ckpt = tf.train.Checkpoint(spikes=spikes)\n",
    "manager = tf.train.CheckpointManager(ckpt, './tf_ckpts', max_to_keep=3)\n",
    "spikes_val = [False for i in range(0, len(raw_data))]\n",
    "\n",
    "for i in range(1, len(raw_data)):\n",
    "    if raw_data[i] - raw_data[i-1] > 5:\n",
    "        spikes_val[i] = True\n",
    "        updater = spikes.assign(spikes_val)\n",
    "        save_path = manager.save()\n",
    "        print(\"Saved checkpoint at: %s\" % save_path)\n",
    "        \n",
    "print(\"Spikes\", spikes.numpy())"
   ]
  },
  {
   "cell_type": "code",
   "execution_count": 17,
   "metadata": {},
   "outputs": [
    {
     "name": "stdout",
     "output_type": "stream",
     "text": [
      "Restored from ./tf_ckpts/ckpt-3\n",
      "Spikes [False False  True False False  True False  True]\n"
     ]
    }
   ],
   "source": [
    "ckpt.restore(manager.latest_checkpoint)\n",
    "if manager.latest_checkpoint:\n",
    "    print(\"Restored from %s\" % manager.latest_checkpoint)\n",
    "\n",
    "to_restore = tf.Variable([False]*len(raw_data), name='spikes')\n",
    "restored = tf.train.Checkpoint(spikes=to_restore)\n",
    "status = restored.restore(tf.train.latest_checkpoint('./tf_ckpts'))\n",
    "\n",
    "print(\"Spikes\", to_restore.numpy())"
   ]
  },
  {
   "cell_type": "markdown",
   "metadata": {},
   "source": [
    "# TensorFlow v1 Compatibility\n",
    "---\n",
    "\n",
    "# TODO\n",
    "The following code snippet **is non-functional**."
   ]
  },
  {
   "cell_type": "code",
   "execution_count": null,
   "metadata": {},
   "outputs": [],
   "source": [
    "tf.compat.v1.disable_eager_execution()\n",
    "sess = tf.compat.v1.InteractiveSession()\n",
    "\n",
    "raw_data = [1., 2., 8., -1., 0., 5.5, 6., 13.]\n",
    "\n",
    "spikes = tf.compat.v1.Variable([False] * len(raw_data), name='spikes')\n",
    "spikes.initializer.run()\n",
    "\n",
    "saver = tf.compat.v1.train.Saver()\n",
    "\n",
    "for i in range(1, len(raw_data)):\n",
    "    if raw_data[i] - raw_data[i-1] > 5:\n",
    "        spikes_val = spikes.eval()\n",
    "        spikes_val[i] = True\n",
    "        updater = tf.compat.v1.assign(spikes, spikes_val)\n",
    "        updater.eval()\n",
    "\n",
    "save_path = saver.save(sess, \"./spikes.ckpt\")\n",
    "print(\"spikes data saved in file: %s\" % save_path)\n",
    "\n",
    "\n",
    "spikes = tf.Variable([False]*8, name='spikes')\n",
    "saver = tf.compat.v1.train.Saver()\n",
    "saver.restore(sess, \"./spikes.ckpt\")\n",
    "print(spikes.eval())\n",
    "sess.close()"
   ]
  },
  {
   "cell_type": "code",
   "execution_count": null,
   "metadata": {},
   "outputs": [],
   "source": []
  },
  {
   "cell_type": "code",
   "execution_count": null,
   "metadata": {},
   "outputs": [],
   "source": []
  }
 ],
 "metadata": {
  "kernelspec": {
   "display_name": "Python 3",
   "language": "python",
   "name": "python3"
  },
  "language_info": {
   "codemirror_mode": {
    "name": "ipython",
    "version": 3
   },
   "file_extension": ".py",
   "mimetype": "text/x-python",
   "name": "python",
   "nbconvert_exporter": "python",
   "pygments_lexer": "ipython3",
   "version": "3.8.3"
  }
 },
 "nbformat": 4,
 "nbformat_minor": 4
}
