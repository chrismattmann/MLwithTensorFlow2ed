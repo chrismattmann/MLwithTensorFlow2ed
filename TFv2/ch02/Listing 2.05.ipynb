{
 "cells": [
  {
   "cell_type": "markdown",
   "metadata": {},
   "source": [
    "# What's new?\n",
    "\n",
    "With the advent of [eager execution](https://www.tensorflow.org/guide/effective_tf2#eager_execution), TensorFlow 2 does away with explicit calls to Session objects. \n",
    "As a matter of fact, TF2 prefers [functions, not sessions](https://www.tensorflow.org/guide/effective_tf2#functions_not_sessions).\n",
    "Find more information on the official [Effective TensorFlow 2](https://www.tensorflow.org/guide/effective_tf2) page. \n",
    "Here is a brief synopsis as the change from TF1 $\\rightarrow$ TF2\n",
    "\n",
    "**TensorFlow 1.X**\n",
    "\n",
    "`outputs = session.run(f(placeholder), feed_dict={placeholder: input})`\n",
    "\n",
    "\n",
    "**TensorFlow 2.0**\n",
    "\n",
    "`outputs = f(input)`\n",
    "\n",
    "---"
   ]
  },
  {
   "cell_type": "code",
   "execution_count": 3,
   "metadata": {},
   "outputs": [],
   "source": [
    "import tensorflow as tf"
   ]
  },
  {
   "cell_type": "markdown",
   "metadata": {},
   "source": [
    "---\n",
    "# TensorFlow v2"
   ]
  },
  {
   "cell_type": "code",
   "execution_count": 17,
   "metadata": {},
   "outputs": [
    {
     "name": "stdout",
     "output_type": "stream",
     "text": [
      "[[-1. -2.]]\n"
     ]
    }
   ],
   "source": [
    "x = tf.constant([[1., 2.]])\n",
    "negMatrix = tf.negative(x)\n",
    "print(negMatrix.numpy())"
   ]
  },
  {
   "cell_type": "markdown",
   "metadata": {},
   "source": [
    "---\n",
    "## TensorFlow v2 Compatibility\n",
    "\n",
    "You can still use `Session` functionality, but you must do so using the `tf.compat` module:"
   ]
  },
  {
   "cell_type": "code",
   "execution_count": 18,
   "metadata": {},
   "outputs": [
    {
     "name": "stdout",
     "output_type": "stream",
     "text": [
      "[[-1. -2.]]\n"
     ]
    }
   ],
   "source": [
    "with tf.compat.v1.Session() as sess:\n",
    "    x = tf.constant([[1., 2.]])\n",
    "    negMatrix = tf.negative(x)\n",
    "    result = sess.run(negMatrix)\n",
    "print(result)"
   ]
  },
  {
   "cell_type": "code",
   "execution_count": null,
   "metadata": {},
   "outputs": [],
   "source": []
  }
 ],
 "metadata": {
  "kernelspec": {
   "display_name": "NLP - GPU (Python3)",
   "language": "python",
   "name": "nlp_gpu"
  },
  "language_info": {
   "codemirror_mode": {
    "name": "ipython",
    "version": 3
   },
   "file_extension": ".py",
   "mimetype": "text/x-python",
   "name": "python",
   "nbconvert_exporter": "python",
   "pygments_lexer": "ipython3",
   "version": "3.6.8"
  }
 },
 "nbformat": 4,
 "nbformat_minor": 4
}
